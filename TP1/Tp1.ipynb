{
  "cells": [
    {
      "cell_type": "code",
      "source": [
        "function norm(x)\n",
        "  beta = maximum(abs.(x))\n",
        "  if beta == 0\n",
        "    return 0\n",
        "  end\n",
        "  else\n",
        "    xhat = (1/beta) * x\n",
        "    sqSum = 0\n",
        "    for idx in xhat\n",
        "      sqSum += idx^2\n",
        "    end\n",
        "     return beta * sqrt(sqSum)\n",
        "  end\n",
        "  return beta\n",
        "end"
      ],
      "outputs": [],
      "execution_count": null,
      "metadata": {
        "collapsed": false,
        "outputHidden": false,
        "inputHidden": false
      }
    },
    {
      "cell_type": "code",
      "source": [],
      "outputs": [],
      "execution_count": null,
      "metadata": {
        "collapsed": false,
        "outputHidden": false,
        "inputHidden": false
      }
    }
  ],
  "metadata": {
    "kernel_info": {
      "name": "julia-1.1"
    },
    "language_info": {
      "name": "python3"
    },
    "kernelspec": {
      "name": "julia-1.1",
      "language": "julia",
      "display_name": "Julia 1.1.1"
    },
    "nteract": {
      "version": "0.14.3"
    }
  },
  "nbformat": 4,
  "nbformat_minor": 0
}