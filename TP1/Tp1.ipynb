{
  "cells": [
    {
      "cell_type": "code",
      "source": [
        "using LinearAlgebra"
      ],
      "outputs": [],
      "execution_count": 3,
      "metadata": {
        "collapsed": false,
        "outputHidden": false,
        "inputHidden": false
      }
    },
    {
      "cell_type": "code",
      "source": [
        "function norm_2_usual(x)\n",
        "  sqSum = 0\n",
        "  \n",
        "  for element in x\n",
        "    sqSum += element^2\n",
        "  end  \n",
        "  \n",
        "  return sqrt(sqSum)\n",
        "end"
      ],
      "outputs": [
        {
          "output_type": "execute_result",
          "execution_count": 4,
          "data": {
            "text/plain": [
              "norm_2_usual (generic function with 1 method)"
            ]
          },
          "metadata": {}
        }
      ],
      "execution_count": 4,
      "metadata": {
        "collapsed": false,
        "outputHidden": false,
        "inputHidden": false
      }
    },
    {
      "cell_type": "code",
      "source": [
        "# Q1.1: Norma de um vetor em Rn\n",
        "function norm_2(v)\n",
        "  beta = maximum(abs.(v))  \n",
        "  \n",
        "  if beta == 0\n",
        "    return 0\n",
        "  end  \n",
        "  \n",
        "  w = 1/beta * v\n",
        "  return beta * norm_2_usual(w)  \n",
        "end"
      ],
      "outputs": [
        {
          "output_type": "execute_result",
          "execution_count": 5,
          "data": {
            "text/plain": [
              "norm_2 (generic function with 1 method)"
            ]
          },
          "metadata": {}
        }
      ],
      "execution_count": 5,
      "metadata": {
        "collapsed": false,
        "outputHidden": false,
        "inputHidden": false
      }
    },
    {
      "cell_type": "code",
      "source": [
        "# TEST norm_2\n",
        "# v onde a norm_2_usual falha\n",
        "# v = [] ?"
      ],
      "outputs": [],
      "execution_count": 6,
      "metadata": {
        "collapsed": false,
        "outputHidden": false,
        "inputHidden": false
      }
    },
    {
      "cell_type": "code",
      "source": [
        "# Q1.2: Rotações de Givens\n",
        "function givens_rotation(f, g)\n",
        "    r = norm_2([f, g])\n",
        "    return f/r, g/r, r\n",
        "end"
      ],
      "outputs": [
        {
          "output_type": "execute_result",
          "execution_count": 7,
          "data": {
            "text/plain": [
              "givens_rotation (generic function with 1 method)"
            ]
          },
          "metadata": {}
        }
      ],
      "execution_count": 7,
      "metadata": {
        "collapsed": false,
        "outputHidden": false,
        "inputHidden": false
      }
    },
    {
      "cell_type": "code",
      "source": [
        "# TEST Rotações de Givens\n",
        "v = rand(2)\n",
        "c, s, r = givens_rotation(v[1], v[2])\n",
        "r = round(r; digits=9)\n",
        "\n",
        "rot = [c s; -s c]\n",
        "result = round.((rot * v); digits=9)\n",
        "display(result == [r; 0])"
      ],
      "outputs": [
        {
          "output_type": "display_data",
          "data": {
            "text/plain": [
              "true"
            ]
          },
          "metadata": {}
        }
      ],
      "execution_count": 8,
      "metadata": {
        "collapsed": false,
        "outputHidden": false,
        "inputHidden": false
      }
    },
    {
      "cell_type": "code",
      "source": [
        "# Q1.3: Refletores de Householder\n",
        "function householder_reflector(w)\n",
        "  if w == 0\n",
        "    return 0, 0\n",
        "  end\n",
        "  tau = norm_2(w)\n",
        "  r = zeros(length(w))\n",
        "  r[1] = tau\n",
        "  v = w - r\n",
        "  gamma = 2/(norm_2(v)^2)\n",
        "  return gamma, v, tau\n",
        "end"
      ],
      "outputs": [
        {
          "output_type": "execute_result",
          "execution_count": 9,
          "data": {
            "text/plain": [
              "householder_reflector (generic function with 1 method)"
            ]
          },
          "metadata": {}
        }
      ],
      "execution_count": 9,
      "metadata": {
        "collapsed": false,
        "outputHidden": false,
        "inputHidden": false
      }
    },
    {
      "cell_type": "code",
      "source": [
        "# TEST Reflectores de HouseHolder\n",
        "n = 5\n",
        "w = rand(n)\n",
        "gamma, v, tau = householder_reflector(w)\n",
        "\n",
        "Q = Array{Float64}(I, (n, n)) - gamma * (v * transpose(v))\n",
        "result = round.(Q * w; digits=9)\n",
        "tao = round(tau; digits=9)\n",
        "\n",
        "display(result == [tao; zeros(n-1)])"
      ],
      "outputs": [
        {
          "output_type": "display_data",
          "data": {
            "text/plain": [
              "true"
            ]
          },
          "metadata": {}
        }
      ],
      "execution_count": 10,
      "metadata": {
        "collapsed": false,
        "outputHidden": false,
        "inputHidden": false
      }
    },
    {
      "cell_type": "code",
      "source": [
        "# # Q1.4 Decomposição QR = A(nxm)\n",
        "# function qr_decomposition(A)\n",
        "#   n, m = size(A)\n",
        "#   Q = Array{Float64}(I, (n, n))\n",
        "#   for k = 1:m\n",
        "    \n",
        "#     # Guardamos u em A para economizar memória\n",
        "#     gamma, A[k:n, k], tau = householder_reflector(A[k:n, k])\n",
        "#     A[k,k] = - tau\n",
        "    \n",
        "#     v = gamma * (transpose(u) * A[k:n, k+1:n])\n",
        "#     A[k:n, k+1:n] -= (u * v)\n",
        "    \n",
        "#     IDN = Array{Float64}(I, (k, k))\n",
        "#     N = zeros(k, n-k)\n",
        "#     Q *= [IDN N; N' ]\n",
        "#   end\n",
        "#   R = Q * A\n",
        "#   return Q, R\n",
        "# end"
      ],
      "outputs": [],
      "execution_count": 11,
      "metadata": {
        "collapsed": false,
        "outputHidden": false,
        "inputHidden": false
      }
    },
    {
      "cell_type": "code",
      "source": [
        "# TEST QR\n"
      ],
      "outputs": [],
      "execution_count": 12,
      "metadata": {
        "collapsed": false,
        "outputHidden": false,
        "inputHidden": false
      }
    },
    {
      "cell_type": "code",
      "source": [
        "# Q2.2 Redução a forma de Hessemberg\n",
        "function upper_hessenberg_form(A)\n",
        "  n = size(A, 1)\n",
        "  Q = Array{Float64}(I, (n, n))\n",
        "  for k = 1:n-2\n",
        "    beta = maximum(abs.(A[k+1:n, k]))\n",
        "    if beta != 0\n",
        "      ### Setting up Qk and Q\n",
        "      A[k+1:n, k] /= beta\n",
        "      tao = norm(A[k+1:n, k], 2) # norm() is the euclidean norm\n",
        "      if A[k+1, k] < 0 \n",
        "        tao = - tao\n",
        "      end\n",
        "      eta = A[k+1, k] + tao\n",
        "      A[k+1, k] = 1\n",
        "      A[k+2:n, k] /= eta\n",
        "      gamma = eta/tao\n",
        "      tao *= beta\n",
        "      IDN = Array{Float64}(I, (k, k))\n",
        "      N = zeros(k, n-k)\n",
        "      v = A[k+1:n, k]\n",
        "      Qk = Array{Float64}(I, (n-k, n-k)) - gamma * (v * transpose(v))\n",
        "      Q *= [IDN N; N' Qk]\n",
        "      ###\n",
        "       \n",
        "      ### Multiply on the left by Qk\n",
        "      b = transpose(A[k+1:n, k]) * A[k+1:n, k+1:n]\n",
        "      b *= - gamma\n",
        "      A[k+1:n, k+1:n] += (A[k+1:n, k] * b)  \n",
        "      ###\n",
        "\n",
        "      ### Multiply on the right by Qk\n",
        "      b = A[:, k+1:n] * A[k+1:n, k]\n",
        "      b *= -gamma \n",
        "      A[:, k+1:n] += (b * transpose(A[k+1:n, k]))\n",
        "      ###   \n",
        "\n",
        "      A[k+1,k] = - tao\n",
        "      A[k+2:n,k] = zeros(n-k-1)\n",
        "    end\n",
        "  end\n",
        "  return A, Q\n",
        "end"
      ],
      "outputs": [
        {
          "output_type": "execute_result",
          "execution_count": 13,
          "data": {
            "text/plain": [
              "upper_hessenberg_form (generic function with 1 method)"
            ]
          },
          "metadata": {}
        }
      ],
      "execution_count": 13,
      "metadata": {
        "collapsed": false,
        "outputHidden": false,
        "inputHidden": false
      }
    },
    {
      "cell_type": "code",
      "source": [
        "# # test H e Q corretas\n",
        "# A = rand(4,4)\n",
        "# display(A)\n",
        "# B = hessenberg(A)\n",
        "# H, Q = upper_hessenberg_form(A)\n",
        "# display(B)\n",
        "# display(H)\n",
        "# display(Q'Q)\n",
        "# display(Q*H*Q')"
      ],
      "outputs": [],
      "execution_count": 14,
      "metadata": {
        "collapsed": false,
        "outputHidden": false,
        "inputHidden": false
      }
    },
    {
      "cell_type": "code",
      "source": [
        "# 2.3 Iteração de Francis de grau 2\n",
        "# 2.3.1 Autovalores de uma matriz 2x2\n",
        "function eigva22(A)\n",
        "  s = sum((abs(element) for element in A))\n",
        "  A *= 1/s\n",
        "\n",
        "  t = tr(A)/2\n",
        "  C = A - t * Array{Float64}(I, (2,2))\n",
        "  d = ((A[1,1] - t) * (A[2,2] - t)) - (A[1,2] * A[2,1])\n",
        "\n",
        "  eigva = [t + sqrt(abs(d)), t - sqrt(abs(d))]\n",
        "  if d > 0\n",
        "    eigva = [t + (1im * sqrt(d)), t - (1im * sqrt(d))]\n",
        "  end\n",
        "\n",
        "  return eigva * s\n",
        "end"
      ],
      "outputs": [
        {
          "output_type": "execute_result",
          "execution_count": 157,
          "data": {
            "text/plain": [
              "eigva22 (generic function with 1 method)"
            ]
          },
          "metadata": {}
        }
      ],
      "execution_count": 157,
      "metadata": {
        "collapsed": false,
        "outputHidden": false,
        "inputHidden": false
      }
    },
    {
      "cell_type": "code",
      "source": [
        "# TEST eigva22\n",
        "A = rand(2,2)\n",
        "eigva_calc = eigva22(A)\n",
        "eigva = eigen(A).values\n",
        "\n",
        "eigva_calc = abs.(round.(eigva_calc, digits=9))\n",
        "eigva = abs.(round.(eigva, digits=9))\n",
        "\n",
        "display(eigva_calc)\n",
        "display(eigva)"
      ],
      "outputs": [
        {
          "output_type": "display_data",
          "data": {
            "text/plain": [
              "2-element Array{Float64,1}:\n",
              " 0.862272701\n",
              " 0.294925241"
            ]
          },
          "metadata": {}
        },
        {
          "output_type": "display_data",
          "data": {
            "text/plain": [
              "2-element Array{Float64,1}:\n",
              " 0.294925241\n",
              " 0.862272701"
            ]
          },
          "metadata": {}
        }
      ],
      "execution_count": 146,
      "metadata": {
        "collapsed": false,
        "outputHidden": false,
        "inputHidden": false
      }
    },
    {
      "cell_type": "code",
      "source": [
        "# 2.3.3 Shift de Rayleigh generalizado\n",
        "function get_shifts(H)\n",
        "  n = size(H, 1)\n",
        "  H_canto = H[n-1:n, n-1:n]\n",
        "  shifts = eigva22(H_canto)\n",
        "  if shifts isa Array{Float64,1}\n",
        "    dif = abs.(shifts - [H[n,n], H[n,n]])\n",
        "    s_w = shifts[argmin(dif)]\n",
        "    shifts = [s_w, s_w]\n",
        "  end\n",
        "  return shifts\n",
        "end\n"
      ],
      "outputs": [
        {
          "output_type": "execute_result",
          "execution_count": 16,
          "data": {
            "text/plain": [
              "get_shifts (generic function with 1 method)"
            ]
          },
          "metadata": {}
        }
      ],
      "execution_count": 16,
      "metadata": {
        "collapsed": false,
        "outputHidden": false,
        "inputHidden": false
      }
    },
    {
      "cell_type": "code",
      "source": [
        "# 2.3.4 Aplicando Qk tal que (Q∗)(p(H)e1) = βe1\n",
        "function get_p(H)\n",
        "  shifts = get_shifts(H)\n",
        "  \n",
        "  ### calculando p\n",
        "  first_line = ((H[1,1] - shifts[1]) * (H[1,1] - shifts[2])) + (H[1,2]*H[2,1])\n",
        "  second_line = H[2,1] * ((H[1,1] + H[2,2]) - (shifts[1] + shifts[2]))\n",
        "  third_line = H[3,2] * H[2,1]\n",
        "  remaining = zeros(n-3)\n",
        "  p = [first_line; second_line; third_line; remaining]\n",
        "  ###\n",
        "  \n",
        "  return p\n",
        "end"
      ],
      "outputs": [
        {
          "output_type": "execute_result",
          "execution_count": 158,
          "data": {
            "text/plain": [
              "get_p (generic function with 1 method)"
            ]
          },
          "metadata": {}
        }
      ],
      "execution_count": 158,
      "metadata": {
        "collapsed": false,
        "outputHidden": false,
        "inputHidden": false
      }
    },
    {
      "cell_type": "code",
      "source": [
        "# TEST get_p\n",
        "n = 5\n",
        "A = rand(n,n)\n",
        "H, Q = upper_hessenberg_form(A)\n",
        "p = get_p(H)\n",
        "shifts = get_shifts(H)\n",
        "\n",
        "ID = Array{Float64}(I, (n, n))\n",
        "p_calc = (H - shifts[1]*ID)*(H - shifts[2]*ID)[1:n,1]\n",
        "\n",
        "display(round.(p, digits=9) == round.(p_calc, digits=9))\n"
      ],
      "outputs": [
        {
          "output_type": "display_data",
          "data": {
            "text/plain": [
              "true"
            ]
          },
          "metadata": {}
        }
      ],
      "execution_count": 219,
      "metadata": {
        "collapsed": false,
        "outputHidden": false,
        "inputHidden": false
      }
    },
    {
      "cell_type": "code",
      "source": [
        "# # 2.3.5 Voltando a forma de Hessenberg\n",
        "# function get_back_hessenberg(H)\n",
        "#   Q = Array{Float64}(I, (n, n))\n",
        "#   for k = 1:n-2\n",
        "#     ID = Array{Float64}(I, (k, k))\n",
        "#     N = zeros(k, n-k)\n",
        "#     gamma, u, tau = householder_reflector(p)\n",
        "#     Qk = Array{Float64}(I, (n-k, n-k)) - gamma * (u * transpose(u))\n",
        "#     Q *= [ID N; N' Qk]\n",
        "#     H = Q*H*Q\n",
        "#     display(H)\n",
        "#   end\n",
        "#   return G, Q\n",
        "# end\n"
      ],
      "outputs": [
        {
          "output_type": "execute_result",
          "execution_count": 97,
          "data": {
            "text/plain": [
              "get_back_hessenberg (generic function with 1 method)"
            ]
          },
          "metadata": {}
        }
      ],
      "execution_count": 97,
      "metadata": {
        "collapsed": false,
        "outputHidden": false,
        "inputHidden": false
      }
    },
    {
      "cell_type": "code",
      "source": [
        "# Francis2\n",
        "function francis2(H)\n",
        "  n = size(H,1)\n",
        "  # p(H)e1\n",
        "  p = get_p(H)\n",
        "  \n",
        "  # refrector Q=Q0 de p(H)e1\n",
        "  gamma, u, tau = householder_reflector(p)  \n",
        "  Q = Array{Float64}(I, (n, n)) - gamma * (u * transpose(u))\n",
        "  H = Q'*H*Q\n",
        "  ###\n",
        "  \n",
        "  for k = 1:n-2\n",
        "    # reflectores das colunas de H\n",
        "    gamma, u, tau = householder_reflector(H[k+1:n, k])\n",
        "    Qk = Array{Float64}(I, (n-k, n-k)) - gamma * (u * transpose(u))\n",
        "    ###\n",
        "    \n",
        "    ID = Array{Float64}(I, (k, k))\n",
        "    N = zeros(k, n-k)\n",
        "    q = [ID N; N' Qk]\n",
        "    \n",
        "    H = q'*H*q\n",
        "    Q *= Q\n",
        "  end\n",
        "  return H, Q\n",
        "end"
      ],
      "outputs": [
        {
          "output_type": "execute_result",
          "execution_count": 290,
          "data": {
            "text/plain": [
              "francis2 (generic function with 2 methods)"
            ]
          },
          "metadata": {}
        }
      ],
      "execution_count": 290,
      "metadata": {
        "collapsed": false,
        "outputHidden": false,
        "inputHidden": false
      }
    },
    {
      "cell_type": "code",
      "source": [
        "# TEST\n",
        "n = 5\n",
        "A = rand(n,n)\n",
        "H, Q = upper_hessenberg_form(A)\n",
        "display(H)\n",
        "G = copy(H)\n",
        "H, Q = francis2(H)\n",
        "display(Q'*G*Q)"
      ],
      "outputs": [
        {
          "output_type": "display_data",
          "data": {
            "text/plain": [
              "5×5 Array{Float64,2}:\n",
              "  0.0486768  -0.950838   0.606689  -0.0978674  -0.292934 \n",
              " -1.33673     2.2406    -0.438484  -0.288224   -0.0454484\n",
              "  0.0        -0.674426   0.702062  -0.235547    0.289139 \n",
              "  0.0         0.0       -0.292107  -0.201069    0.385149 \n",
              "  0.0         0.0        0.0       -0.0641348  -0.24181  "
            ]
          },
          "metadata": {}
        },
        {
          "output_type": "display_data",
          "data": {
            "text/plain": [
              "5×5 Array{Complex{Float64},2}:\n",
              "    0.0486768+0.0im    -0.950838+0.0im  …  -0.0978674+0.0im   -0.292934+0.0im\n",
              "     -1.33673+0.0im       2.2406+0.0im      -0.288224+0.0im  -0.0454484+0.0im\n",
              " -6.14989e-16+0.0im    -0.674426+0.0im      -0.235547+0.0im    0.289139+0.0im\n",
              "  3.45253e-17+0.0im  3.81298e-17+0.0im      -0.201069+0.0im    0.385149+0.0im\n",
              "          0.0+0.0im          0.0+0.0im     -0.0641348+0.0im    -0.24181+0.0im"
            ]
          },
          "metadata": {}
        }
      ],
      "execution_count": 291,
      "metadata": {
        "collapsed": false,
        "outputHidden": false,
        "inputHidden": false
      }
    },
    {
      "cell_type": "code",
      "source": [
        "A = rand(5,5)\n",
        "A = Symmetric(A)"
      ],
      "outputs": [
        {
          "output_type": "execute_result",
          "execution_count": 292,
          "data": {
            "text/plain": [
              "5×5 Symmetric{Float64,Array{Float64,2}}:\n",
              " 0.822523  0.500739  0.450339  0.746932  0.328531\n",
              " 0.500739  0.546897  0.328062  0.156501  0.586736\n",
              " 0.450339  0.328062  0.677679  0.140133  0.133751\n",
              " 0.746932  0.156501  0.140133  0.378267  0.206976\n",
              " 0.328531  0.586736  0.133751  0.206976  0.963069"
            ]
          },
          "metadata": {}
        }
      ],
      "execution_count": 292,
      "metadata": {
        "collapsed": false,
        "outputHidden": false,
        "inputHidden": false
      }
    },
    {
      "cell_type": "code",
      "source": [],
      "outputs": [],
      "execution_count": null,
      "metadata": {
        "collapsed": false,
        "outputHidden": false,
        "inputHidden": false
      }
    }
  ],
  "metadata": {
    "kernel_info": {
      "name": "julia-1.1"
    },
    "language_info": {
      "file_extension": ".jl",
      "name": "julia",
      "mimetype": "application/julia",
      "version": "1.1.1"
    },
    "kernelspec": {
      "name": "julia-1.1",
      "language": "julia",
      "display_name": "Julia 1.1.1"
    },
    "nteract": {
      "version": "0.14.3"
    }
  },
  "nbformat": 4,
  "nbformat_minor": 0
}