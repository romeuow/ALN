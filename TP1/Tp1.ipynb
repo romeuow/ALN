{
  "cells": [
    {
      "cell_type": "code",
      "source": [
        "using LinearAlgebra"
      ],
      "outputs": [],
      "execution_count": 3,
      "metadata": {
        "collapsed": false,
        "outputHidden": false,
        "inputHidden": false
      }
    },
    {
      "cell_type": "code",
      "source": [
        "function upper_hessenberg_form(A)\n",
        "# A = [1. 2 3 4 5 6; 7 8 9 10 11 12; 13 14 15 16 17 18; 19 20 21 22 23 24; 25 26 27 28 29 30; 31 32 33 34 35 36]\n",
        "# display(A)\n",
        "  n = size(A, 1)\n",
        "  # k=1\n",
        "  for k = 1:n-2\n",
        "    beta = maximum(abs.(A[k+1:n, k]))\n",
        "    if beta != 0\n",
        "      ### Setting up Qk\n",
        "      A[k+1:n, k] /= beta\n",
        "      tao = norm(A[k+1:n, k], 2) # norm() is the euclidean norm\n",
        "      if A[k+1, k] < 0 \n",
        "        tao = - tao\n",
        "      end\n",
        "      eta = A[k+1, k] + tao\n",
        "      A[k+1, k] = 1\n",
        "      A[k+2:n, k] /= eta\n",
        "      gamma = eta/tao\n",
        "      tao *= beta\n",
        "      ###\n",
        "\n",
        "      ### Multiply on the left by Qk\n",
        "      b = transpose(A[k+1:n, k]) * A[k+1:n, k+1:n]\n",
        "      b *= - gamma\n",
        "      A[k+1:n, k+1:n] += (A[k+1:n, k] * b)  \n",
        "      ###\n",
        "\n",
        "      ### Multiply on the right by Qk\n",
        "      b = A[:, k+1:n] * A[k+1:n, k]\n",
        "      b *= -gamma \n",
        "      A[:, k+1:n] += (b * transpose(A[k+1:n, k]))\n",
        "      ###   \n",
        "\n",
        "      A[k+1,k] = - tao\n",
        "    end\n",
        "  end\n",
        "  return A\n",
        "end"
      ],
      "outputs": [
        {
          "output_type": "execute_result",
          "execution_count": 27,
          "data": {
            "text/plain": [
              "upper_hessenberg_form (generic function with 1 method)"
            ]
          },
          "metadata": {}
        }
      ],
      "execution_count": 27,
      "metadata": {
        "collapsed": false,
        "outputHidden": false,
        "inputHidden": false
      }
    },
    {
      "cell_type": "code",
      "source": [
        "A = [1. 50 -3 4; 5 6 -70 8; 9 -10 111 12; 130 .14 15 0.0016]\n",
        "B = [1. 50 -3 4; 5 6 -70 8; 9 -10 111 12; 130 .14 15 0.0016]\n",
        "display(A)\n",
        "C = hessenberg!(A)\n",
        "D = upper_hessenberg_form(B)\n",
        "show(C)\n",
        "display(D)\n"
      ],
      "outputs": [
        {
          "output_type": "display_data",
          "data": {
            "text/plain": [
              "4×4 Array{Float64,2}:\n",
              "   1.0   50.0    -3.0   4.0   \n",
              "   5.0    6.0   -70.0   8.0   \n",
              "   9.0  -10.0   111.0  12.0   \n",
              " 130.0    0.14   15.0   0.0016"
            ]
          },
          "metadata": {}
        },
        {
          "output_type": "display_data",
          "data": {
            "text/plain": [
              "4×4 Array{Float64,2}:\n",
              "    1.0        -5.69754    -5.20226  -49.6535 \n",
              " -130.407       2.49612    19.4482    -3.75938\n",
              "    0.0664663  19.4012     92.0192   -25.5032 \n",
              "    0.960068   -0.120091  -85.9734    22.4862 "
            ]
          },
          "metadata": {}
        },
        {
          "output_type": "stream",
          "name": "stdout",
          "text": [
            "Hessenberg{Float64,Array{Float64,2}}([1.0 -5.69754 -5.20226 -49.6535; -130.407 2.49612 19.4482 -3.75938; 0.0664663 19.4012 92.0192 -25.5032; 0.960068 -0.120091 -85.9734 22.4862], [1.03834, 1.97157, 0.0])"
          ]
        }
      ],
      "execution_count": 38,
      "metadata": {
        "collapsed": false,
        "outputHidden": false,
        "inputHidden": false
      }
    },
    {
      "cell_type": "code",
      "source": [],
      "outputs": [],
      "execution_count": 8,
      "metadata": {
        "collapsed": false,
        "outputHidden": false,
        "inputHidden": false
      }
    },
    {
      "cell_type": "code",
      "source": [],
      "outputs": [],
      "execution_count": null,
      "metadata": {
        "collapsed": false,
        "outputHidden": false,
        "inputHidden": false
      }
    },
    {
      "cell_type": "code",
      "source": [],
      "outputs": [],
      "execution_count": null,
      "metadata": {
        "collapsed": false,
        "outputHidden": false,
        "inputHidden": false
      }
    },
    {
      "cell_type": "code",
      "source": [],
      "outputs": [],
      "execution_count": null,
      "metadata": {
        "collapsed": false,
        "outputHidden": false,
        "inputHidden": false
      }
    },
    {
      "cell_type": "code",
      "source": [],
      "outputs": [],
      "execution_count": null,
      "metadata": {
        "collapsed": false,
        "outputHidden": false,
        "inputHidden": false
      }
    },
    {
      "cell_type": "code",
      "source": [],
      "outputs": [],
      "execution_count": null,
      "metadata": {
        "collapsed": false,
        "outputHidden": false,
        "inputHidden": false
      }
    },
    {
      "cell_type": "code",
      "source": [],
      "outputs": [],
      "execution_count": null,
      "metadata": {
        "collapsed": false,
        "outputHidden": false,
        "inputHidden": false
      }
    }
  ],
  "metadata": {
    "kernel_info": {
      "name": "julia-1.1"
    },
    "language_info": {
      "file_extension": ".jl",
      "name": "julia",
      "mimetype": "application/julia",
      "version": "1.1.1"
    },
    "kernelspec": {
      "name": "julia-1.1",
      "language": "julia",
      "display_name": "Julia 1.1.1"
    },
    "nteract": {
      "version": "0.14.3"
    }
  },
  "nbformat": 4,
  "nbformat_minor": 0
}