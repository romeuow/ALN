{
  "cells": [
    {
      "cell_type": "code",
      "source": [
        "using LinearAlgebra"
      ],
      "outputs": [],
      "execution_count": 15,
      "metadata": {
        "collapsed": false,
        "outputHidden": false,
        "inputHidden": false
      }
    },
    {
      "cell_type": "code",
      "source": [
        "function upper_hessenberg_form(A)\n",
        "  n = size(A, 1)\n",
        "  Q = Array{Float64}(I, (n, n))\n",
        "  for k = 1:n-2\n",
        "    beta = maximum(abs.(A[k+1:n, k]))\n",
        "    if beta != 0\n",
        "      ### Setting up Qk and Q\n",
        "      A[k+1:n, k] /= beta\n",
        "      tao = norm(A[k+1:n, k], 2) # norm() is the euclidean norm\n",
        "      if A[k+1, k] < 0 \n",
        "        tao = - tao\n",
        "      end\n",
        "      eta = A[k+1, k] + tao\n",
        "      A[k+1, k] = 1\n",
        "      A[k+2:n, k] /= eta\n",
        "      gamma = eta/tao\n",
        "      tao *= beta\n",
        "      IDN = Array{Float64}(I, (k, k))\n",
        "      N = zeros(k, n-k)\n",
        "      v = A[k+1:n, k]\n",
        "      Qk = Array{Float64}(I, (n-k, n-k)) - gamma * (v * v')\n",
        "      P = [IDN N; N' Qk]\n",
        "      Q *= P\n",
        "      ###\n",
        "       \n",
        "      ### Multiply on the left by Qk\n",
        "      b = transpose(A[k+1:n, k]) * A[k+1:n, k+1:n]\n",
        "      b *= - gamma\n",
        "      A[k+1:n, k+1:n] += (A[k+1:n, k] * b)  \n",
        "      ###\n",
        "\n",
        "      ### Multiply on the right by Qk\n",
        "      b = A[:, k+1:n] * A[k+1:n, k]\n",
        "      b *= -gamma \n",
        "      A[:, k+1:n] += (b * transpose(A[k+1:n, k]))\n",
        "      ###   \n",
        "\n",
        "      A[k+1,k] = - tao\n",
        "      A[k+2:n,k] = zeros(n-k-1)\n",
        "    end\n",
        "  end\n",
        "  return A, Q\n",
        "end"
      ],
      "outputs": [
        {
          "output_type": "execute_result",
          "execution_count": 16,
          "data": {
            "text/plain": [
              "upper_hessenberg_form (generic function with 1 method)"
            ]
          },
          "metadata": {}
        }
      ],
      "execution_count": 16,
      "metadata": {
        "collapsed": false,
        "outputHidden": false,
        "inputHidden": false
      }
    },
    {
      "cell_type": "code",
      "source": [
        "# test H e Q corretas\n",
        "# A = rand(Float64, (4,4))\n",
        "# display(A)\n",
        "# B = hessenberg(A)\n",
        "# H, Q = upper_hessenberg_form(A)\n",
        "# display(B)\n",
        "# display(H)\n",
        "# display(Q'Q)\n",
        "# display(Q*H*Q')"
      ],
      "outputs": [],
      "execution_count": 17,
      "metadata": {
        "collapsed": false,
        "outputHidden": false,
        "inputHidden": false
      }
    },
    {
      "cell_type": "code",
      "source": [
        "# 2.3.1 Autovalores de uma matriz 2x2\n",
        "function eigva22(A)\n",
        "  s = sum((abs(element) for element in A))\n",
        "  A *= 1/s\n",
        "\n",
        "  # (A - tI) tr e det\n",
        "  t = tr(A)/2\n",
        "  C = A - t * Array{Float64}(I, (2,2))\n",
        "  # display(C)\n",
        "  # display(tr(C))\n",
        "  d = ((A[1,1] - t) * (A[2,2] - t)) - (A[1,2] * A[2,1])\n",
        "  # display(d)\n",
        "\n",
        "  eigva = [t + sqrt(abs(d)), t - sqrt(abs(d))]\n",
        "  if d > 0\n",
        "    eigva = s * [t + (1im * sqrt(d)), t - (1im * sqrt(d))]\n",
        "  end\n",
        "\n",
        "  # checando os autovalores\n",
        "#   display(eigen(A).values)\n",
        "#   display(eigva)\n",
        "  return eigva\n",
        "end"
      ],
      "outputs": [
        {
          "output_type": "execute_result",
          "execution_count": 35,
          "data": {
            "text/plain": [
              "eigva22 (generic function with 1 method)"
            ]
          },
          "metadata": {}
        }
      ],
      "execution_count": 35,
      "metadata": {
        "collapsed": false,
        "outputHidden": false,
        "inputHidden": false
      }
    },
    {
      "cell_type": "code",
      "source": [
        "function get_shifts(H)\n",
        "  H_canto = H[n-1:n, n-1:n]\n",
        "  shifts = eigva22(H_canto)\n",
        "  if shifts isa Array{Float64,1}\n",
        "  #   display(shifts)\n",
        "    dif = abs.(shifts - [H[n,n], H[n,n]])\n",
        "    s_w = shifts[argmin(dif)]\n",
        "    shifts = [s_w, s_w]\n",
        "  #   display(shifts)\n",
        "  end\n",
        "  # display(H[n,n])\n",
        "end\n"
      ],
      "outputs": [
        {
          "output_type": "display_data",
          "data": {
            "text/plain": [
              "2-element Array{Float64,1}:\n",
              "  0.3467307152175203 \n",
              " -0.47379856388501584"
            ]
          },
          "metadata": {}
        },
        {
          "output_type": "display_data",
          "data": {
            "text/plain": [
              "2-element Array{Float64,1}:\n",
              " 0.3467307152175203\n",
              " 0.3467307152175203"
            ]
          },
          "metadata": {}
        },
        {
          "output_type": "display_data",
          "data": {
            "text/plain": [
              "0.21157538950970786"
            ]
          },
          "metadata": {}
        }
      ],
      "execution_count": 110,
      "metadata": {
        "collapsed": false,
        "outputHidden": false,
        "inputHidden": false
      }
    },
    {
      "cell_type": "code",
      "source": [
        "n = 5\n",
        "A = rand(Float64, (n,n))\n",
        "H, Q = upper_hessenberg_form(A)\n",
        "\n",
        "### calculando p\n",
        "first_line = ((H[1,1] - shifts[1]) * (H[1,1] - shifts[2])) + (H[1,2]*H[2,1])\n",
        "second_line = H[2,1] * ((H[1,1] + H[2,2]) - (shifts[1] + shifts[2]))\n",
        "third_line = H[3,2] * H[2,1]\n",
        "remaining = zeros(n-3)\n",
        "p = [first_line; second_line; third_line; remaining]\n",
        "display(p)\n",
        "###\n",
        "\n",
        "# checking\n",
        "# Inn = Array{Float64}(I, (n,n))\n",
        "# p2 = (H - (shifts[1] * Inn)) * (H - (shifts[2] * Inn))\n",
        "# p2[1:n,1]\n"
      ],
      "outputs": [
        {
          "output_type": "display_data",
          "data": {
            "text/plain": [
              "5-element Array{Float64,1}:\n",
              "  1.107187253353125 \n",
              " -2.292143952270201 \n",
              " -0.8802992609653799\n",
              "  0.0               \n",
              "  0.0               "
            ]
          },
          "metadata": {}
        },
        {
          "output_type": "execute_result",
          "execution_count": 125,
          "data": {
            "text/plain": [
              "5-element Array{Float64,1}:\n",
              "  1.107187253353125 \n",
              " -2.2921439522702016\n",
              " -0.8802992609653799\n",
              "  0.0               \n",
              "  0.0               "
            ]
          },
          "metadata": {}
        }
      ],
      "execution_count": 125,
      "metadata": {
        "collapsed": false,
        "outputHidden": false,
        "inputHidden": false
      }
    },
    {
      "cell_type": "code",
      "source": [],
      "outputs": [],
      "execution_count": null,
      "metadata": {
        "collapsed": false,
        "outputHidden": false,
        "inputHidden": false
      }
    },
    {
      "cell_type": "code",
      "source": [],
      "outputs": [],
      "execution_count": null,
      "metadata": {
        "collapsed": false,
        "outputHidden": false,
        "inputHidden": false
      }
    },
    {
      "cell_type": "code",
      "source": [],
      "outputs": [],
      "execution_count": null,
      "metadata": {
        "collapsed": false,
        "outputHidden": false,
        "inputHidden": false
      }
    },
    {
      "cell_type": "code",
      "source": [],
      "outputs": [],
      "execution_count": null,
      "metadata": {
        "collapsed": false,
        "outputHidden": false,
        "inputHidden": false
      }
    },
    {
      "cell_type": "code",
      "source": [],
      "outputs": [],
      "execution_count": null,
      "metadata": {
        "collapsed": false,
        "outputHidden": false,
        "inputHidden": false
      }
    },
    {
      "cell_type": "code",
      "source": [],
      "outputs": [],
      "execution_count": null,
      "metadata": {
        "collapsed": false,
        "outputHidden": false,
        "inputHidden": false
      }
    },
    {
      "cell_type": "code",
      "source": [],
      "outputs": [],
      "execution_count": null,
      "metadata": {
        "collapsed": false,
        "outputHidden": false,
        "inputHidden": false
      }
    },
    {
      "cell_type": "code",
      "source": [],
      "outputs": [],
      "execution_count": null,
      "metadata": {
        "collapsed": false,
        "outputHidden": false,
        "inputHidden": false
      }
    },
    {
      "cell_type": "code",
      "source": [],
      "outputs": [],
      "execution_count": null,
      "metadata": {
        "collapsed": false,
        "outputHidden": false,
        "inputHidden": false
      }
    },
    {
      "cell_type": "code",
      "source": [],
      "outputs": [],
      "execution_count": null,
      "metadata": {
        "collapsed": false,
        "outputHidden": false,
        "inputHidden": false
      }
    },
    {
      "cell_type": "code",
      "source": [],
      "outputs": [],
      "execution_count": null,
      "metadata": {
        "collapsed": false,
        "outputHidden": false,
        "inputHidden": false
      }
    },
    {
      "cell_type": "code",
      "source": [],
      "outputs": [],
      "execution_count": null,
      "metadata": {
        "collapsed": false,
        "outputHidden": false,
        "inputHidden": false
      }
    }
  ],
  "metadata": {
    "kernel_info": {
      "name": "julia-1.1"
    },
    "language_info": {
      "file_extension": ".jl",
      "name": "julia",
      "mimetype": "application/julia",
      "version": "1.1.1"
    },
    "kernelspec": {
      "name": "julia-1.1",
      "language": "julia",
      "display_name": "Julia 1.1.1"
    },
    "nteract": {
      "version": "0.14.3"
    }
  },
  "nbformat": 4,
  "nbformat_minor": 0
}